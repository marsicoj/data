{
 "cells": [
  {
   "cell_type": "code",
   "execution_count": 69,
   "metadata": {},
   "outputs": [
    {
     "name": "stdout",
     "output_type": "stream",
     "text": [
      "Using matplotlib backend: MacOSX\n"
     ]
    },
    {
     "name": "stderr",
     "output_type": "stream",
     "text": [
      "/anaconda3/lib/python3.6/site-packages/ipykernel_launcher.py:42: UserWarning: Boolean Series key will be reindexed to match DataFrame index.\n",
      "/anaconda3/lib/python3.6/site-packages/ipykernel_launcher.py:43: UserWarning: Boolean Series key will be reindexed to match DataFrame index.\n"
     ]
    }
   ],
   "source": [
    "import pandas as pd\n",
    "import numpy as np\n",
    "import matplotlib.pyplot as plt\n",
    "import seaborn as sns\n",
    "%matplotlib\n",
    "\n",
    "#Read Capital Bikeshare data\n",
    "CB2010_raw = pd.read_csv('desktop/2010-capitalbikeshare-tripdata.csv')\n",
    "CB2011_raw = pd.read_csv('desktop/2011-capitalbikeshare-tripdata.csv')\n",
    "CB2012Q1_raw = pd.read_csv('desktop/2012Q1-capitalbikeshare-tripdata.csv')\n",
    "CB2012Q2_raw = pd.read_csv('desktop/2012Q2-capitalbikeshare-tripdata.csv')\n",
    "CB2012Q3_raw = pd.read_csv('desktop/2012Q3-capitalbikeshare-tripdata.csv')\n",
    "CB2012Q4_raw = pd.read_csv('desktop/2012Q4-capitalbikeshare-tripdata.csv')\n",
    "CB2013Q1_raw = pd.read_csv('desktop/2013Q1-capitalbikeshare-tripdata.csv')\n",
    "CB2013Q2_raw = pd.read_csv('desktop/2013Q2-capitalbikeshare-tripdata.csv')\n",
    "CB2013Q3_raw = pd.read_csv('desktop/2013Q3-capitalbikeshare-tripdata.csv')\n",
    "CB2013Q4_raw = pd.read_csv('desktop/2013Q4-capitalbikeshare-tripdata.csv')\n",
    "CB2014Q1_raw = pd.read_csv('desktop/2014Q1-capitalbikeshare-tripdata.csv')\n",
    "CB2014Q2_raw = pd.read_csv('desktop/2014Q2-capitalbikeshare-tripdata.csv')\n",
    "CB2014Q3_raw = pd.read_csv('desktop/2014Q3-capitalbikeshare-tripdata.csv')\n",
    "CB2014Q4_raw = pd.read_csv('desktop/2014Q4-capitalbikeshare-tripdata.csv')\n",
    "CB2015Q1_raw = pd.read_csv('desktop/2015Q1-capitalbikeshare-tripdata.csv')\n",
    "CB2015Q2_raw = pd.read_csv('desktop/2015Q2-capitalbikeshare-tripdata.csv')\n",
    "CB2015Q3_raw = pd.read_csv('desktop/2015Q3-capitalbikeshare-tripdata.csv')\n",
    "CB2015Q4_raw = pd.read_csv('desktop/2015Q4-capitalbikeshare-tripdata.csv')\n",
    "CB2016Q1_raw = pd.read_csv('desktop/2016Q1-capitalbikeshare-tripdata.csv')\n",
    "CB2016Q2_raw = pd.read_csv('desktop/2016Q2-capitalbikeshare-tripdata.csv')\n",
    "CB2016Q3_raw = pd.read_csv('desktop/2016Q3-capitalbikeshare-tripdata.csv')\n",
    "CB2016Q4_raw = pd.read_csv('desktop/2016Q4-capitalbikeshare-tripdata.csv')\n",
    "CB2017Q1_raw = pd.read_csv('desktop/2017Q1-capitalbikeshare-tripdata.csv')\n",
    "CB2017Q2_raw = pd.read_csv('desktop/2017Q2-capitalbikeshare-tripdata.csv')\n",
    "CB2017Q3_raw = pd.read_csv('desktop/2017Q3-capitalbikeshare-tripdata.csv')\n",
    "CB2017Q4_raw = pd.read_csv('desktop/2017Q4-capitalbikeshare-tripdata.csv')\n",
    "\n",
    "#Identify the number of one-way bike trips by users without membership\n",
    "CB2010 = len(CB2010_raw[CB2010_raw['Member type'] == \"Casual\"].index)\n",
    "CB2011 = len(CB2011_raw[CB2011_raw['Member type'] == \"Casual\"].index)\n",
    "CB2012 = len(CB2012Q1_raw[CB2012Q1_raw['Member type'] == \"Casual\"].index) + len(CB2012Q2_raw[CB2012Q2_raw['Member type'] == \"Casual\"].index) + len(CB2012Q3_raw[CB2012Q3_raw['Member type'] == \"Casual\"].index) + len(CB2012Q4_raw[CB2012Q4_raw['Member type'] == \"Casual\"].index)\n",
    "CB2013 = len(CB2013Q1_raw[CB2013Q1_raw['Member type'] == \"Casual\"].index) + len(CB2013Q2_raw[CB2013Q2_raw['Member type'] == \"Casual\"].index) + len(CB2013Q3_raw[CB2013Q3_raw['Member type'] == \"Casual\"].index) + len(CB2013Q4_raw[CB2013Q4_raw['Member type'] == \"Casual\"].index)\n",
    "CB2014 = len(CB2014Q1_raw[CB2014Q1_raw['Member type'] == \"Casual\"].index) + len(CB2014Q2_raw[CB2014Q2_raw['Member type'] == \"Casual\"].index) + len(CB2014Q3_raw[CB2014Q3_raw['Member type'] == \"Casual\"].index) + len(CB2014Q4_raw[CB2014Q4_raw['Member type'] == \"Casual\"].index)\n",
    "CB2015 = len(CB2015Q1_raw[CB2015Q1_raw['Member type'] == \"Casual\"].index) + len(CB2015Q2_raw[CB2015Q2_raw['Member type'] == \"Casual\"].index) + len(CB2015Q3_raw[CB2015Q3_raw['Member type'] == \"Casual\"].index) + len(CB2015Q4_raw[CB2015Q4_raw['Member type'] == \"Casual\"].index)\n",
    "CB2016 = len(CB2016Q1_raw[CB2016Q1_raw['Member type'] == \"Casual\"].index) + len(CB2016Q2_raw[CB2016Q2_raw['Member type'] == \"Casual\"].index) + len(CB2015Q3_raw[CB2016Q3_raw['Member type'] == \"Casual\"].index) + len(CB2016Q4_raw[CB2016Q4_raw['Member type'] == \"Casual\"].index)\n",
    "CB2017 = len(CB2017Q1_raw[CB2017Q1_raw['Member type'] == \"Casual\"].index) + len(CB2017Q2_raw[CB2017Q2_raw['Member type'] == \"Casual\"].index) + len(CB2015Q3_raw[CB2017Q3_raw['Member type'] == \"Casual\"].index) + len(CB2017Q4_raw[CB2017Q4_raw['Member type'] == \"Casual\"].index)\n",
    "\n",
    "bikes = pd.DataFrame([CB2010, CB2011, CB2012, CB2013, CB2014, CB2015, CB2016, CB2017], \n",
    "                  index=[2010,2011,2012,2013,2014,2015,2016,2017])\n",
    "\n",
    "bikes.to_csv('capitalbikeshare.csv', sep='\\t', encoding='utf-8')\n",
    "\n",
    "##Create tourism dataset from https://washington-org.s3.amazonaws.com/s3fs-public/2017_visitor_statistics.pdf\n",
    "tourism = pd.DataFrame([17200000, 17800000, 18300000, 19000000, 20200000, 21300000, 22000000, 22800000], \n",
    "                  index=[2010,2011,2012,2013,2014,2015,2016,2017])\n",
    "\n",
    "corr = pd.concat([tourism, bikes], axis=1, keys=['tourism', 'bikes']).corr().loc['bikes', 'tourism']\n",
    "\n",
    "##Create visaulization\n",
    "fig, ax1 = plt.subplots()\n",
    "\n",
    "color = 'tab:red'\n",
    "ax1.set_ylabel('Number of casual bike rides (no membership)', color=color)\n",
    "ax1.plot(bikes, color=color, lw=3, marker='o')\n",
    "ax1.tick_params(axis='y', labelcolor=color)\n",
    "\n",
    "ax2 = ax1.twinx()  # instantiate a second axes that shares the same x-axis\n",
    "color = 'tab:blue'\n",
    "ax2.set_ylabel('Tourists visiting Washington, DC', color=color)\n",
    "ax2.plot(tourism, color=color, lw=3, marker='o')\n",
    "ax2.tick_params(axis='y', labelcolor=color)\n",
    "plt.ylim(0, 30000000)\n",
    "ax1.set_title('Shared Bike Use and Tourism in Washington, DC')\n",
    "ax1.text(2010, 930000, 'Correlation between shared bike rides and tourists is 0.9596')\n",
    "fig.tight_layout()\n",
    "plt.show()"
   ]
  },
  {
   "cell_type": "code",
   "execution_count": 4,
   "metadata": {},
   "outputs": [
    {
     "name": "stdout",
     "output_type": "stream",
     "text": [
      "/Users/hannahwilliams\n"
     ]
    }
   ],
   "source": [
    "cd"
   ]
  },
  {
   "cell_type": "code",
   "execution_count": null,
   "metadata": {},
   "outputs": [],
   "source": []
  },
  {
   "cell_type": "code",
   "execution_count": null,
   "metadata": {},
   "outputs": [],
   "source": []
  }
 ],
 "metadata": {
  "kernelspec": {
   "display_name": "Python 3",
   "language": "python",
   "name": "python3"
  },
  "language_info": {
   "codemirror_mode": {
    "name": "ipython",
    "version": 3
   },
   "file_extension": ".py",
   "mimetype": "text/x-python",
   "name": "python",
   "nbconvert_exporter": "python",
   "pygments_lexer": "ipython3",
   "version": "3.6.5"
  }
 },
 "nbformat": 4,
 "nbformat_minor": 2
}
